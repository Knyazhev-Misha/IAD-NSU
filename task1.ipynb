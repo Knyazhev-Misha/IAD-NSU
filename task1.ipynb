{
 "cells": [
  {
   "cell_type": "markdown",
   "metadata": {},
   "source": [
    "считываем данные из student-mat.csv"
   ]
  },
  {
   "cell_type": "code",
   "execution_count": 58,
   "metadata": {},
   "outputs": [
    {
     "name": "stdout",
     "output_type": "stream",
     "text": [
      "<class 'pandas.core.frame.DataFrame'>\n",
      "RangeIndex: 395 entries, 0 to 394\n",
      "Data columns (total 33 columns):\n",
      " #   Column      Non-Null Count  Dtype \n",
      "---  ------      --------------  ----- \n",
      " 0   school      395 non-null    object\n",
      " 1   sex         395 non-null    object\n",
      " 2   age         395 non-null    int64 \n",
      " 3   address     395 non-null    object\n",
      " 4   famsize     395 non-null    object\n",
      " 5   Pstatus     395 non-null    object\n",
      " 6   Medu        395 non-null    int64 \n",
      " 7   Fedu        395 non-null    int64 \n",
      " 8   Mjob        395 non-null    object\n",
      " 9   Fjob        395 non-null    object\n",
      " 10  reason      395 non-null    object\n",
      " 11  guardian    395 non-null    object\n",
      " 12  traveltime  395 non-null    int64 \n",
      " 13  studytime   395 non-null    int64 \n",
      " 14  failures    395 non-null    int64 \n",
      " 15  schoolsup   395 non-null    object\n",
      " 16  famsup      395 non-null    object\n",
      " 17  paid        395 non-null    object\n",
      " 18  activities  395 non-null    object\n",
      " 19  nursery     395 non-null    object\n",
      " 20  higher      395 non-null    object\n",
      " 21  internet    395 non-null    object\n",
      " 22  romantic    395 non-null    object\n",
      " 23  famrel      395 non-null    int64 \n",
      " 24  freetime    395 non-null    int64 \n",
      " 25  goout       395 non-null    int64 \n",
      " 26  Dalc        395 non-null    int64 \n",
      " 27  Walc        395 non-null    int64 \n",
      " 28  health      395 non-null    int64 \n",
      " 29  absences    395 non-null    int64 \n",
      " 30  G1          395 non-null    int64 \n",
      " 31  G2          395 non-null    int64 \n",
      " 32  G3          395 non-null    int64 \n",
      "dtypes: int64(16), object(17)\n",
      "memory usage: 102.0+ KB\n"
     ]
    }
   ],
   "source": [
    "import pandas as pd\n",
    "import numpy as np\n",
    "import math\n",
    "\n",
    "csv_file_path = \"student-mat.csv\"\n",
    "\n",
    "df = pd.read_csv(csv_file_path, sep=\";\")\n",
    "df.info()"
   ]
  },
  {
   "cell_type": "markdown",
   "metadata": {},
   "source": [
    "для облегчения подсчетов переводим в матричный вил и разделяем на шкалы порядка, наименований и абсолютную шкалу"
   ]
  },
  {
   "cell_type": "code",
   "execution_count": 59,
   "metadata": {},
   "outputs": [
    {
     "name": "stdout",
     "output_type": "stream",
     "text": [
      "Количество строк датасета: 395\n",
      "Количество столбцов датасета: 33\n",
      "Данные с шкалой порядка (количество столбцов: 14)\n",
      "['Medu', 'Fedu', 'traveltime', 'studytime', 'failures', 'famrel', 'freetime', 'goout', 'Dalc', 'Walc', 'health', 'G1', 'G2', 'G3']\n",
      "\n",
      "Данные с шкалой наименований (количество столбцов: 17)\n",
      "['school', 'sex', 'address', 'famsize', 'Pstatus', 'Mjob', 'Fjob', 'reason', 'guardian', 'schoolsup', 'famsup', 'paid', 'activities', 'nursery', 'higher', 'internet', 'romantic']\n",
      "\n",
      "Данные с абсолютной шкалой (количество столбцов: 2)\n",
      "['age', 'absences']\n"
     ]
    }
   ],
   "source": [
    "matrix_df = df.values.T\n",
    "\n",
    "numeric_df = []\n",
    "categorical_df = []\n",
    "absolute_df = ['age', 'absences']\n",
    "\n",
    "for column in df.columns:\n",
    "    if df[column].dtype in ['int64', 'float64'] and column not in absolute_df:\n",
    "        numeric_df.append(column)\n",
    "    elif column not in absolute_df:\n",
    "        categorical_df.append(column)\n",
    "\n",
    "num_rows_df = df.shape[0]\n",
    "print(f\"Количество строк датасета: {num_rows_df}\")\n",
    "\n",
    "num_columns_df = df.shape[1]\n",
    "print(f\"Количество столбцов датасета: {num_columns_df}\")\n",
    "\n",
    "num_columns_numeric_df = len(numeric_df)\n",
    "print(f\"Данные с шкалой порядка (количество столбцов: {num_columns_numeric_df})\")\n",
    "print(numeric_df)\n",
    "\n",
    "num_columns_categorical_df = len(categorical_df)\n",
    "print(f\"\\nДанные с шкалой наименований (количество столбцов: {num_columns_categorical_df})\")\n",
    "print(categorical_df)\n",
    "\n",
    "num_columns_absolute_df = len(absolute_df)\n",
    "print(f\"\\nДанные с абсолютной шкалой (количество столбцов: {num_columns_absolute_df})\") \n",
    "print(absolute_df)\n"
   ]
  },
  {
   "cell_type": "markdown",
   "metadata": {},
   "source": [
    "считываем сколько у нас строк в датафрейме(количество объектов), формируем матрицу попарных расстояний с помощью метрик\n",
    "для наменовний:\n",
    "d(i,l) = 0, если (Xi = X и Xl = X) или (Xi = X И Xl = X)\n",
    "d(i,l) = 1, если (Xi = X и Xl ≠ X) или (Xi ≠ X и Xl = X)\n",
    "\n",
    "для порядка:\n",
    "d(i,l) = 0, если (Xi > X и Xl > X) или (Xi < X и Xl < X) или (Xi = X и Xl = X)\n",
    "d(i,l) = 1, если (Xi > X и Xl < X) или (Xi < X И Xl > X)\n",
    "d(i,l) = 0.5, если (Xi >< X и Xl = X) или (Xi = X И Xl >< X)\n",
    "\n",
    "для абсолютной:\n",
    "d(i,l) = 0, если |(Xi - Xl)| / (X.max - X.min)\n",
    "\n",
    "Пояснение, X пробегает все значения в столбце, а Xi это значение 1 объекта, Xl значени 2 объекта\n",
    "\n",
    "Так как расстояния должны быть [0; 1], то нормируем их деля на количество всех объектов\n",
    "\n",
    "В конце по формуле из группы считаем расстояние между объектами"
   ]
  },
  {
   "cell_type": "code",
   "execution_count": 81,
   "metadata": {},
   "outputs": [],
   "source": [
    "matrix_pairwise_distances_df = np.zeros((num_rows_df, num_rows_df), dtype=np.float64)\n",
    "\n",
    "def calc_categorical(i, l , column):\n",
    "    d = np.float64(0)\n",
    "    xi = column[i]\n",
    "    xl = column[l]\n",
    "\n",
    "    for x in column:\n",
    "        if(((xi == x) and (xl == x)) or ((xi != x) and (xl != x))):\n",
    "            d += 0\n",
    "        else:\n",
    "            d += 1\n",
    "\n",
    "    d = d / np.float64(num_rows_df)  \n",
    "    return d\n",
    "\n",
    "def calc_numeric(i, l , column):\n",
    "    d = np.float64(0)\n",
    "    xi = column[i]\n",
    "    xl = column[l]\n",
    "\n",
    "    for x in column:\n",
    "        if(((xi > x) and (xl > x)) or ((xi < x) and (xl < x)) or ((xi == x) and (xl == x))):\n",
    "            d += 0\n",
    "        elif(((xi > x) and (xl < x)) or ((xi < x) and (xl > x))):\n",
    "            d += 1\n",
    "        else:\n",
    "            d += 0.5\n",
    "\n",
    "    d = d / np.float64(num_rows_df)  \n",
    "    return d\n",
    "\n",
    "def calc_absolute(i, l , column):\n",
    "    d = np.float64(0)\n",
    "    xi = column[i]\n",
    "    xl = column[l]\n",
    "\n",
    "    d = abs(xi - xl) / (np.float64(max(column)) - np.float64(min(column)))  \n",
    "    return d\n",
    "\n",
    "for i in range(0, num_rows_df - 1):\n",
    "    for l in range(i + 1, num_rows_df):\n",
    "        t = 0\n",
    "        d = np.float64(0)\n",
    "\n",
    "        for column in df.columns:\n",
    "            if(column in categorical_df):\n",
    "                d += math.pow(calc_categorical(i, l, matrix_df[t]), 2)\n",
    "            elif(column in absolute_df):\n",
    "                d += math.pow(calc_absolute(i, l, matrix_df[t]), 2)\n",
    "            else:\n",
    "                d += math.pow(calc_numeric(i, l, matrix_df[t]), 2)\n",
    "            t += 1\n",
    "        \n",
    "        matrix_pairwise_distances_df[i][l] = math.sqrt(d) / math.sqrt(num_columns_df)\n",
    "        matrix_pairwise_distances_df[l][i] = matrix_pairwise_distances_df[i][l]\n",
    "\n",
    "pairwise_distances_df = pd.DataFrame(matrix_pairwise_distances_df)\n",
    "csv_file_path = \"matrix_pairwise_distances_df.csv\"\n",
    "pairwise_distances_df.to_csv(csv_file_path, sep=';', index=False)\n",
    "\n"
   ]
  },
  {
   "cell_type": "markdown",
   "metadata": {},
   "source": [
    "тут будет проверка на компактность"
   ]
  }
 ],
 "metadata": {
  "kernelspec": {
   "display_name": "Python 3",
   "language": "python",
   "name": "python3"
  },
  "language_info": {
   "codemirror_mode": {
    "name": "ipython",
    "version": 3
   },
   "file_extension": ".py",
   "mimetype": "text/x-python",
   "name": "python",
   "nbconvert_exporter": "python",
   "pygments_lexer": "ipython3",
   "version": "3.10.8"
  }
 },
 "nbformat": 4,
 "nbformat_minor": 2
}
