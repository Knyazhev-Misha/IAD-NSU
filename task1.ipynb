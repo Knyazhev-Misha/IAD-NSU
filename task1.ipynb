{
 "cells": [
  {
   "cell_type": "markdown",
   "metadata": {},
   "source": [
    "считываем данные из student-mat.csv"
   ]
  },
  {
   "cell_type": "code",
   "execution_count": 9,
   "metadata": {},
   "outputs": [
    {
     "name": "stdout",
     "output_type": "stream",
     "text": [
      "<class 'pandas.core.frame.DataFrame'>\n",
      "RangeIndex: 395 entries, 0 to 394\n",
      "Data columns (total 33 columns):\n",
      " #   Column      Non-Null Count  Dtype \n",
      "---  ------      --------------  ----- \n",
      " 0   school      395 non-null    object\n",
      " 1   sex         395 non-null    object\n",
      " 2   age         395 non-null    int64 \n",
      " 3   address     395 non-null    object\n",
      " 4   famsize     395 non-null    object\n",
      " 5   Pstatus     395 non-null    object\n",
      " 6   Medu        395 non-null    int64 \n",
      " 7   Fedu        395 non-null    int64 \n",
      " 8   Mjob        395 non-null    object\n",
      " 9   Fjob        395 non-null    object\n",
      " 10  reason      395 non-null    object\n",
      " 11  guardian    395 non-null    object\n",
      " 12  traveltime  395 non-null    int64 \n",
      " 13  studytime   395 non-null    int64 \n",
      " 14  failures    395 non-null    int64 \n",
      " 15  schoolsup   395 non-null    object\n",
      " 16  famsup      395 non-null    object\n",
      " 17  paid        395 non-null    object\n",
      " 18  activities  395 non-null    object\n",
      " 19  nursery     395 non-null    object\n",
      " 20  higher      395 non-null    object\n",
      " 21  internet    395 non-null    object\n",
      " 22  romantic    395 non-null    object\n",
      " 23  famrel      395 non-null    int64 \n",
      " 24  freetime    395 non-null    int64 \n",
      " 25  goout       395 non-null    int64 \n",
      " 26  Dalc        395 non-null    int64 \n",
      " 27  Walc        395 non-null    int64 \n",
      " 28  health      395 non-null    int64 \n",
      " 29  absences    395 non-null    int64 \n",
      " 30  G1          395 non-null    int64 \n",
      " 31  G2          395 non-null    int64 \n",
      " 32  G3          395 non-null    int64 \n",
      "dtypes: int64(16), object(17)\n",
      "memory usage: 102.0+ KB\n"
     ]
    }
   ],
   "source": [
    "import pandas as pd\n",
    "import numpy as np\n",
    "import math\n",
    "\n",
    "csv_file_path = \"student-mat.csv\"\n",
    "\n",
    "df = pd.read_csv(csv_file_path, sep=\";\")\n",
    "df.info()"
   ]
  },
  {
   "cell_type": "markdown",
   "metadata": {},
   "source": [
    "для облегчения подсчетов переводим в матричный вил и разделяем на шкалы порядка, наименований и абсолютную шкалу"
   ]
  },
  {
   "cell_type": "code",
   "execution_count": 10,
   "metadata": {},
   "outputs": [
    {
     "name": "stdout",
     "output_type": "stream",
     "text": [
      "Количество строк датасета: 395\n",
      "Количество столбцов датасета: 33\n",
      "Данные с шкалой порядка (количество столбцов: 14)\n",
      "['Medu', 'Fedu', 'traveltime', 'studytime', 'failures', 'famrel', 'freetime', 'goout', 'Dalc', 'Walc', 'health', 'G1', 'G2', 'G3']\n",
      "\n",
      "Данные с шкалой наименований (количество столбцов: 17)\n",
      "['school', 'sex', 'address', 'famsize', 'Pstatus', 'Mjob', 'Fjob', 'reason', 'guardian', 'schoolsup', 'famsup', 'paid', 'activities', 'nursery', 'higher', 'internet', 'romantic']\n",
      "\n",
      "Данные с абсолютной шкалой (количество столбцов: 2)\n",
      "['age', 'absences']\n"
     ]
    }
   ],
   "source": [
    "matrix_df = df.values.T\n",
    "\n",
    "numeric_df = []\n",
    "categorical_df = []\n",
    "absolute_df = ['age', 'absences']\n",
    "\n",
    "for column in df.columns:\n",
    "    if df[column].dtype in ['int64', 'float64'] and column not in absolute_df:\n",
    "        numeric_df.append(column)\n",
    "    elif column not in absolute_df:\n",
    "        categorical_df.append(column)\n",
    "\n",
    "num_rows_df = df.shape[0]\n",
    "print(f\"Количество строк датасета: {num_rows_df}\")\n",
    "\n",
    "num_columns_df = df.shape[1]\n",
    "print(f\"Количество столбцов датасета: {num_columns_df}\")\n",
    "\n",
    "num_columns_numeric_df = len(numeric_df)\n",
    "print(f\"Данные с шкалой порядка (количество столбцов: {num_columns_numeric_df})\")\n",
    "print(numeric_df)\n",
    "\n",
    "num_columns_categorical_df = len(categorical_df)\n",
    "print(f\"\\nДанные с шкалой наименований (количество столбцов: {num_columns_categorical_df})\")\n",
    "print(categorical_df)\n",
    "\n",
    "num_columns_absolute_df = len(absolute_df)\n",
    "print(f\"\\nДанные с абсолютной шкалой (количество столбцов: {num_columns_absolute_df})\") \n",
    "print(absolute_df)\n"
   ]
  },
  {
   "cell_type": "markdown",
   "metadata": {},
   "source": [
    "считываем сколько у нас строк в датафрейме(количество объектов), формируем матрицу попарных расстояний с помощью метрик\n",
    "для наменовний:\n",
    "d(i,l) = 0, если (Xi = X и Xl = X) или (Xi = X И Xl = X)\n",
    "d(i,l) = 1, если (Xi = X и Xl ≠ X) или (Xi ≠ X и Xl = X)\n",
    "\n",
    "для порядка:\n",
    "d(i,l) = 0, если (Xi > X и Xl > X) или (Xi < X и Xl < X) или (Xi = X и Xl = X)\n",
    "d(i,l) = 1, если (Xi > X и Xl < X) или (Xi < X И Xl > X)\n",
    "d(i,l) = 0.5, если (Xi >< X и Xl = X) или (Xi = X И Xl >< X)\n",
    "\n",
    "для абсолютной:\n",
    "d(i,l) = 0, если |(Xi - Xl)| / (X.max - X.min)\n",
    "\n",
    "Пояснение, X пробегает все значения в столбце, а Xi это значение 1 объекта, Xl значени 2 объекта\n",
    "\n",
    "Так как расстояния должны быть [0; 1], то нормируем их деля на количество всех объектов\n",
    "\n",
    "В конце по формуле из группы считаем расстояние между объектами"
   ]
  },
  {
   "cell_type": "code",
   "execution_count": 11,
   "metadata": {},
   "outputs": [],
   "source": [
    "matrix_pairwise_distances_df = np.zeros((num_rows_df, num_rows_df), dtype=np.float64)\n",
    "\n",
    "def calc_categorical(i, l , column):\n",
    "    d = np.float64(0)\n",
    "    xi = column[i]\n",
    "    xl = column[l]\n",
    "\n",
    "    for x in column:\n",
    "        if(((xi == x) and (xl == x)) or ((xi != x) and (xl != x))):\n",
    "            d += 0\n",
    "        else:\n",
    "            d += 1\n",
    "\n",
    "    d = d / np.float64(num_rows_df)  \n",
    "    return d\n",
    "\n",
    "def calc_numeric(i, l , column):\n",
    "    d = np.float64(0)\n",
    "    xi = column[i]\n",
    "    xl = column[l]\n",
    "\n",
    "    for x in column:\n",
    "        if(((xi > x) and (xl > x)) or ((xi < x) and (xl < x)) or ((xi == x) and (xl == x))):\n",
    "            d += 0\n",
    "        elif(((xi > x) and (xl < x)) or ((xi < x) and (xl > x))):\n",
    "            d += 1\n",
    "        else:\n",
    "            d += 0.5\n",
    "\n",
    "    d = d / np.float64(num_rows_df)  \n",
    "    return d\n",
    "\n",
    "def calc_absolute(i, l , column):\n",
    "    d = np.float64(0)\n",
    "    xi = column[i]\n",
    "    xl = column[l]\n",
    "\n",
    "    d = abs(xi - xl) / (np.float64(max(column)) - np.float64(min(column)))  \n",
    "    return d\n",
    "\n",
    "for i in range(0, num_rows_df - 1):\n",
    "    for l in range(i + 1, num_rows_df):\n",
    "        t = 0\n",
    "        d = np.float64(0)\n",
    "\n",
    "        for column in df.columns:\n",
    "            if(column in categorical_df):\n",
    "                d += math.pow(calc_categorical(i, l, matrix_df[t]), 2)\n",
    "            elif(column in absolute_df):\n",
    "                d += math.pow(calc_absolute(i, l, matrix_df[t]), 2)\n",
    "            else:\n",
    "                d += math.pow(calc_numeric(i, l, matrix_df[t]), 2)\n",
    "            t += 1\n",
    "        \n",
    "        matrix_pairwise_distances_df[i][l] = math.sqrt(d) / math.sqrt(num_columns_df)\n",
    "        matrix_pairwise_distances_df[l][i] = matrix_pairwise_distances_df[i][l]\n",
    "\n",
    "pairwise_distances_df = pd.DataFrame(matrix_pairwise_distances_df)\n",
    "csv_file_path = \"matrix_pairwise_distances_df.csv\"\n",
    "pairwise_distances_df.to_csv(csv_file_path, sep=';', index=False)\n",
    "\n"
   ]
  },
  {
   "cell_type": "code",
   "execution_count": 12,
   "metadata": {},
   "outputs": [
    {
     "name": "stdout",
     "output_type": "stream",
     "text": [
      "0.39167036197519683\n",
      "0.47369629105456795\n"
     ]
    }
   ],
   "source": [
    "print(matrix_pairwise_distances_df[5][20])\n",
    "\n",
    "print(matrix_pairwise_distances_df[27][116])"
   ]
  },
  {
   "cell_type": "markdown",
   "metadata": {},
   "source": [
    "унимодальная компактность"
   ]
  },
  {
   "cell_type": "code",
   "execution_count": 13,
   "metadata": {},
   "outputs": [
    {
     "data": {
      "image/png": "[encoded data removed]",
      "text/plain": [
       "<Figure size 640x480 with 1 Axes>"
      ]
     },
     "metadata": {},
     "output_type": "display_data"
    },
    {
     "data": {
      "image/png": "[encoded data removed]",
      "text/plain": [
       "<Figure size 640x480 with 1 Axes>"
      ]
     },
     "metadata": {},
     "output_type": "display_data"
    }
   ],
   "source": [
    "import matplotlib.pyplot as plt\n",
    "from scipy import stats\n",
    "\n",
    "df_unimodality = df.copy()\n",
    "fig, ax = plt.subplots()\n",
    "\n",
    "ax.hist(df['G3'], bins=50, edgecolor='black', alpha=0.7)\n",
    "\n",
    "ax.set_xlabel('Оценки G3')\n",
    "ax.set_ylabel('Частота')\n",
    "ax.set_title('Гистограмма оценок G3')\n",
    "\n",
    "plt.show()\n",
    "\n",
    "G3 = df['G3'].values.reshape(-1, 1)\n",
    "top = 17  \n",
    "middle = 8  \n",
    "\n",
    "def classify_students(score, top, middle):\n",
    "    if score >= top:\n",
    "        return 'Отличники'\n",
    "    elif score >= middle:\n",
    "        return 'Средние'\n",
    "    else:\n",
    "        return 'Плохие'\n",
    "\n",
    "df_unimodality['Category'] = df_unimodality['G3'].apply(classify_students, args=(top, middle))\n",
    "category_counts = df_unimodality['Category'].value_counts()\n",
    "\n",
    "total_students = len(df_unimodality)\n",
    "category_percentages = (category_counts / total_students) * 100\n",
    "\n",
    "# Создайте гистограмму процентного соотношения\n",
    "plt.bar(category_percentages.index, category_percentages.values, color=['blue', 'red', 'green'])\n",
    "plt.xlabel('Категория')\n",
    "plt.ylabel('Процент студентов')\n",
    "plt.title('Отношение отличников, средних и плохих студентов')\n",
    "\n",
    "plt.show()\n"
   ]
  },
  {
   "cell_type": "code",
   "execution_count": 14,
   "metadata": {},
   "outputs": [
    {
     "data": {
      "image/png": "[encoded data removed]",
      "text/plain": [
       "<Figure size 640x480 with 1 Axes>"
      ]
     },
     "metadata": {},
     "output_type": "display_data"
    },
    {
     "name": "stdout",
     "output_type": "stream",
     "text": [
      "Cluster 1: Min = 4, Max = 11\n",
      "Cluster 2: Min = 12, Max = 20\n",
      "Cluster 3: Min = 0, Max = 0\n"
     ]
    }
   ],
   "source": [
    "G3 = df['G3'].values.reshape(-1, 1)\n",
    "\n",
    "R = 6\n",
    "\n",
    "def get_cluster_center(cluster):\n",
    "    return np.mean(cluster, axis=0)\n",
    "\n",
    "def forel_clustering(data, R):\n",
    "    clusters = []\n",
    "\n",
    "    while len(data) > 0:\n",
    "        center = data[0]  \n",
    "        cluster = [center]\n",
    "\n",
    "        for point in data:\n",
    "            if np.linalg.norm(point - center) < R:\n",
    "                cluster.append(point)\n",
    "\n",
    "        data = [point for point in data if point not in cluster]\n",
    "\n",
    "        if cluster:\n",
    "            clusters.append(cluster)\n",
    "\n",
    "    return clusters\n",
    "\n",
    "resulting_clusters = forel_clustering(G3, R)\n",
    "\n",
    "for i, cluster in enumerate(resulting_clusters):\n",
    "    y = [i] * len(cluster)  \n",
    "    plt.scatter(cluster, y, label=f'Cluster {i + 1}')\n",
    "\n",
    "plt.xlabel('G3')\n",
    "plt.ylabel('Cluster')\n",
    "plt.legend()\n",
    "plt.show()\n",
    "\n",
    "\n",
    "for i, cluster in enumerate(resulting_clusters):\n",
    "    cluster_data = np.array(cluster)\n",
    "    min_value = np.min(cluster_data)\n",
    "    max_value = np.max(cluster_data)\n",
    "    print(f\"Cluster {i + 1}: Min = {min_value}, Max = {max_value}\")"
   ]
  },
  {
   "cell_type": "code",
   "execution_count": 15,
   "metadata": {},
   "outputs": [
    {
     "name": "stdout",
     "output_type": "stream",
     "text": [
      "Высшая средняя оценка: 0.43736511444860177\n",
      "Средняя средни средних оценок: 0.47053059624355\n",
      "Низшая средняя оценка: 0.4777465469446674\n",
      "Средняя среди всех средних оценок: 0.4742699160289717\n"
     ]
    }
   ],
   "source": [
    "G3 = df['G3'].values.reshape(-1, 1)\n",
    "top = 17  \n",
    "middle = 8  \n",
    "\n",
    "top_mark = []\n",
    "middle_mark = []\n",
    "bottom_mark = []\n",
    "\n",
    "for i in range(len(G3)):\n",
    "    if G3[i] >= top:\n",
    "        top_mark.append(i)\n",
    "    elif G3[i] >= middle:\n",
    "        middle_mark.append(i)\n",
    "    else:\n",
    "        bottom_mark.append(i)\n",
    "\n",
    "def calc_avg_mark(samples):\n",
    "    ptr = 0\n",
    "    count = 0\n",
    "    for i in samples:\n",
    "        for j in samples[i:]:\n",
    "            ptr += matrix_pairwise_distances_df[i][j]\n",
    "            count += 1\n",
    "    return ptr / count\n",
    "\n",
    "print(f\"Высшая средняя оценка: {calc_avg_mark(top_mark)}\")\n",
    "print(f\"Средняя средни средних оценок: {calc_avg_mark(middle_mark)}\")\n",
    "print(f\"Низшая средняя оценка: {calc_avg_mark(bottom_mark)}\")\n",
    "print(f\"Средняя среди всех средних оценок: {calc_avg_mark(range(len(G3)))}\")\n"
   ]
  },
  {
   "cell_type": "markdown",
   "metadata": {},
   "source": [
    "Полимодальная компактность"
   ]
  },
  {
   "cell_type": "code",
   "execution_count": 16,
   "metadata": {},
   "outputs": [
    {
     "name": "stderr",
     "output_type": "stream",
     "text": [
      "c:\\Users\\Alena\\AppData\\Local\\Programs\\Python\\Python310\\lib\\site-packages\\sklearn\\cluster\\_kmeans.py:870: FutureWarning: The default value of `n_init` will change from 10 to 'auto' in 1.4. Set the value of `n_init` explicitly to suppress the warning\n",
      "  warnings.warn(\n",
      "c:\\Users\\Alena\\AppData\\Local\\Programs\\Python\\Python310\\lib\\site-packages\\sklearn\\cluster\\_kmeans.py:870: FutureWarning: The default value of `n_init` will change from 10 to 'auto' in 1.4. Set the value of `n_init` explicitly to suppress the warning\n",
      "  warnings.warn(\n",
      "c:\\Users\\Alena\\AppData\\Local\\Programs\\Python\\Python310\\lib\\site-packages\\sklearn\\cluster\\_kmeans.py:870: FutureWarning: The default value of `n_init` will change from 10 to 'auto' in 1.4. Set the value of `n_init` explicitly to suppress the warning\n",
      "  warnings.warn(\n",
      "c:\\Users\\Alena\\AppData\\Local\\Programs\\Python\\Python310\\lib\\site-packages\\sklearn\\cluster\\_kmeans.py:870: FutureWarning: The default value of `n_init` will change from 10 to 'auto' in 1.4. Set the value of `n_init` explicitly to suppress the warning\n",
      "  warnings.warn(\n"
     ]
    },
    {
     "data": {
      "image/png": "[encoded data removed]",
      "text/plain": [
       "<Figure size 800x600 with 1 Axes>"
      ]
     },
     "metadata": {},
     "output_type": "display_data"
    }
   ],
   "source": [
    "from sklearn.cluster import KMeans\n",
    "import matplotlib.pyplot as plt\n",
    "\n",
    "binary_arr = ['school', 'sex', 'address', 'famsize', 'Pstatus', \n",
    "'schoolsup', 'famsup', 'paid', 'activities', 'nursery', 'higher', 'internet', 'romantic',\n",
    "'Mjob_teacher', 'Mjob_health', 'Mjob_services', 'Mjob_at_home', 'Mjob_other',\n",
    "'Fjob_teacher', 'Fjob_health', 'Fjob_services', 'Fjob_at_home', 'Fjob_other',\n",
    "'reason_home', 'reason_reputation', 'reason_course', 'reason_other',\n",
    "'guardian_mother', 'guardian_father', 'guardian_other']\n",
    "\n",
    "df_polymodal = pd.get_dummies(df, columns=['Mjob', 'Fjob', 'reason', 'guardian'])\n",
    "for binary in binary_arr:\n",
    "    df_polymodal[binary] = df_polymodal[binary].astype('category')\n",
    "    df_polymodal[binary] = df_polymodal[binary].cat.codes\n",
    "\n",
    "inertia = []\n",
    "\n",
    "for n_clusters in range(2, 6):\n",
    "    kmeans = KMeans(n_clusters=n_clusters, random_state=0)\n",
    "    kmeans.fit(df_polymodal)\n",
    "    inertia.append(kmeans.inertia_)\n",
    "\n",
    "plt.figure(figsize=(8, 6))\n",
    "plt.plot(range(2, 6), inertia, marker='o')\n",
    "plt.xlabel('Number of Clusters')\n",
    "plt.ylabel('Inertia')\n",
    "plt.title('Elbow Method for Optimal K')\n",
    "plt.show()"
   ]
  },
  {
   "cell_type": "markdown",
   "metadata": {},
   "source": [
    "отсюда заметно что оптимальное количество клатеров 4"
   ]
  },
  {
   "cell_type": "code",
   "execution_count": 18,
   "metadata": {},
   "outputs": [
    {
     "name": "stderr",
     "output_type": "stream",
     "text": [
      "c:\\Users\\Alena\\AppData\\Local\\Programs\\Python\\Python310\\lib\\site-packages\\sklearn\\cluster\\_kmeans.py:870: FutureWarning: The default value of `n_init` will change from 10 to 'auto' in 1.4. Set the value of `n_init` explicitly to suppress the warning\n",
      "  warnings.warn(\n",
      "c:\\Users\\Alena\\AppData\\Local\\Programs\\Python\\Python310\\lib\\site-packages\\sklearn\\cluster\\_kmeans.py:870: FutureWarning: The default value of `n_init` will change from 10 to 'auto' in 1.4. Set the value of `n_init` explicitly to suppress the warning\n",
      "  warnings.warn(\n"
     ]
    },
    {
     "data": {
      "text/plain": [
       "Comparison\n",
       "False    0.75\n",
       "True     0.25\n",
       "Name: proportion, dtype: float64"
      ]
     },
     "execution_count": 18,
     "metadata": {},
     "output_type": "execute_result"
    }
   ],
   "source": [
    "optimal_n_clusters = 4  \n",
    "kmeans = KMeans(n_clusters=optimal_n_clusters, random_state=0)\n",
    "kmeans.fit(df_polymodal)\n",
    "y_pred = kmeans.fit_predict(df_polymodal)\n",
    "\n",
    "array = []\n",
    "for i in df['G3']:\n",
    "    if i < 5:\n",
    "        array.append(0)\n",
    "    elif i < 11:\n",
    "        array.append(1)\n",
    "    elif i < 17:\n",
    "        array.append(2)\n",
    "    else: \n",
    "        array.append(3)\n",
    "df_polymodal['gradeclass'] = array\n",
    "\n",
    "d = {'Target': df_polymodal['gradeclass'], 'Prediction' : y_pred}\n",
    "\n",
    "\n",
    "result = pd.DataFrame(d, columns = ['Target', 'Prediction'])\n",
    "\n",
    "comparison = np.where(result['Target'] == result['Prediction'], True, False)\n",
    "result['Comparison'] = comparison\n",
    "result['Comparison'].value_counts(normalize = True).round(2)"
   ]
  },
  {
   "cell_type": "markdown",
   "metadata": {},
   "source": [
    "локальная компактность"
   ]
  },
  {
   "cell_type": "code",
   "execution_count": 8,
   "metadata": {},
   "outputs": [
    {
     "name": "stdout",
     "output_type": "stream",
     "text": [
      "Процент локальной компактности: 72.41%\n"
     ]
    }
   ],
   "source": [
    "result = 0\n",
    "\n",
    "for i in range(len(matrix_pairwise_distances_df)):\n",
    "    nearest_obj_idx = np.argmin(np.delete(matrix_pairwise_distances_df[i], i))\n",
    "    if nearest_obj_idx >= i:\n",
    "        nearest_obj_idx += 1\n",
    "\n",
    "    G3_i_value = df['G3'].iloc[i]\n",
    "    G3_nearest_obj_value = df['G3'].iloc[nearest_obj_idx]\n",
    "\n",
    "    if(G3_i_value < middle and G3_nearest_obj_value < middle): \n",
    "        result += 1\n",
    "\n",
    "    elif((G3_i_value < top and G3_nearest_obj_value < top) \n",
    "    and\n",
    "    (G3_i_value >= middle and G3_nearest_obj_value >= middle) \n",
    "    ):\n",
    "        result += 1\n",
    "\n",
    "    elif((G3_i_value < 21 and G3_nearest_obj_value < 21) \n",
    "    and\n",
    "    (G3_i_value >= top and G3_nearest_obj_value >= top) \n",
    "    ):\n",
    "        result += 1\n",
    "\n",
    "local_compactness_percentage = (result / len(matrix_pairwise_distances_df)) * 100\n",
    "print(f\"Процент локальной компактности: {local_compactness_percentage:.2f}%\")"
   ]
  },
  {
   "cell_type": "markdown",
   "metadata": {},
   "source": [
    "по моему мнению если guardian = father то оценка в пределах от 6 до 15"
   ]
  },
  {
   "cell_type": "code",
   "execution_count": 19,
   "metadata": {},
   "outputs": [
    {
     "name": "stdout",
     "output_type": "stream",
     "text": [
      "Средняя оценка для студентов с отцом в качестве опекуна: 10.69\n",
      "Процент студентов с отцом в качестве опекуна, находящихся в диапазоне от 6 до 15: 78.89%\n"
     ]
    }
   ],
   "source": [
    "father_guardian_students = df[df['guardian'] == 'father']\n",
    "\n",
    "average_grade_father_guardian = father_guardian_students['G3'].mean()\n",
    "\n",
    "students_in_range = father_guardian_students[(father_guardian_students['G3'] >= 6) & (father_guardian_students['G3'] <= 15)]\n",
    "percentage_in_range = (len(students_in_range) / len(father_guardian_students)) * 100\n",
    "\n",
    "print(f'Средняя оценка для студентов с отцом в качестве опекуна: {average_grade_father_guardian:.2f}')\n",
    "print(f'Процент студентов с отцом в качестве опекуна, находящихся в диапазоне от 6 до 15: {percentage_in_range:.2f}%')"
   ]
  },
  {
   "cell_type": "markdown",
   "metadata": {},
   "source": [
    "потенциальная опровержимость с помощью бутстрапа"
   ]
  },
  {
   "cell_type": "code",
   "execution_count": 22,
   "metadata": {},
   "outputs": [
    {
     "name": "stdout",
     "output_type": "stream",
     "text": [
      "Стандартное отклонение: 0.48\n"
     ]
    }
   ],
   "source": [
    "df_bootstrap = df.copy()\n",
    "\n",
    "n_iterations = 1000\n",
    "\n",
    "results = []\n",
    "\n",
    "for _ in range(n_iterations):\n",
    "    \n",
    "    bootstrap_sample = df_bootstrap.sample(frac=1, replace=True)\n",
    "    \n",
    "    father_guardian_students = bootstrap_sample[bootstrap_sample['guardian'] == 'father']\n",
    "    average_grade_father_guardian = father_guardian_students['G3'].mean()\n",
    "    students_in_range = father_guardian_students[(father_guardian_students['G3'] >= 6) & (father_guardian_students['G3'] <= 15)]\n",
    "    percentage_in_range = (len(students_in_range) / len(father_guardian_students)) * 100\n",
    "    \n",
    "    \n",
    "    results.append((average_grade_father_guardian, percentage_in_range))\n",
    "\n",
    "std_deviation = np.std([result[0] for result in results])\n",
    "\n",
    "print(f\"Стандартное отклонение: {std_deviation:.2f}\")"
   ]
  }
 ],
 "metadata": {
  "kernelspec": {
   "display_name": "Python 3",
   "language": "python",
   "name": "python3"
  },
  "language_info": {
   "codemirror_mode": {
    "name": "ipython",
    "version": 3
   },
   "file_extension": ".py",
   "mimetype": "text/x-python",
   "name": "python",
   "nbconvert_exporter": "python",
   "pygments_lexer": "ipython3",
   "version": "3.10.8"
  }
 },
 "nbformat": 4,
 "nbformat_minor": 2
}
